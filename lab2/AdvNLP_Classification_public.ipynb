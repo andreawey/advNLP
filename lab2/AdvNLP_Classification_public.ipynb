{
  "cells": [
    {
      "cell_type": "code",
      "execution_count": 1,
      "metadata": {
        "colab": {
          "background_save": true
        },
        "id": "XeCXbHwxPhhm"
      },
      "outputs": [
        {
          "name": "stderr",
          "output_type": "stream",
          "text": [
            "/home/andrea/Documents/SUPSI/NLP/labs/.venv/lib/python3.12/site-packages/tqdm/auto.py:21: TqdmWarning: IProgress not found. Please update jupyter and ipywidgets. See https://ipywidgets.readthedocs.io/en/stable/user_install.html\n",
            "  from .autonotebook import tqdm as notebook_tqdm\n"
          ]
        },
        {
          "ename": "",
          "evalue": "",
          "output_type": "error",
          "traceback": [
            "\u001b[1;31mThe Kernel crashed while executing code in the current cell or a previous cell. \n",
            "\u001b[1;31mPlease review the code in the cell(s) to identify a possible cause of the failure. \n",
            "\u001b[1;31mClick <a href='https://aka.ms/vscodeJupyterKernelCrash'>here</a> for more info. \n",
            "\u001b[1;31mView Jupyter <a href='command:jupyter.viewOutput'>log</a> for further details."
          ]
        }
      ],
      "source": [
        "from sklearn.feature_extraction.text import TfidfVectorizer\n",
        "from sklearn.model_selection import train_test_split\n",
        "from sklearn.metrics import classification_report\n",
        "from datasets import load_dataset\n",
        "import pandas as pd\n",
        "\n",
        "from sklearn.linear_model import LogisticRegression\n",
        "from sklearn.svm import SVC\n",
        "\n",
        "# TODO: Import other classifiers you want to test\n",
        "\n",
        "# Load a text classification dataset\n",
        "dataset = load_dataset(\"imdb\")\n",
        "\n",
        "# Convert the dataset splits into pandas DataFrames\n",
        "train_df = pd.DataFrame(dataset[\"train\"])\n",
        "test_df = pd.DataFrame(dataset[\"test\"])\n",
        "\n",
        "\n",
        "# Assign the relevant dataset columns to feature and label variables\n",
        "X_train = train_df[\"text\"]\n",
        "y_train = train_df[\"label\"]\n",
        "X_test = test_df[\"text\"]\n",
        "y_test = test_df[\"label\"]\n",
        "\n",
        "# Transform the text data into numerical features using TF-IDF\n",
        "vectorizer = TfidfVectorizer()\n",
        "X_train_transformed = vectorizer.fit_transform(X_train)\n",
        "X_test_transformed = vectorizer.transform(X_test)\n",
        "\n",
        "\n",
        "# Convert the transformed data into a format suitable for classifiers\n",
        "X_train_transformed = X_train_transformed.toarray()\n",
        "X_test_transformed = X_test_transformed.toarray()\n",
        "\n",
        "# Define a set of classifiers to evaluate\n",
        "classifiers = {\n",
        "    \"Logistic Regression\": LogisticRegression(),\n",
        "    \"SVM\": SVC(),}\n",
        "\n",
        "# Loop through classifiers, train them, and evaluate their performance  \n",
        "\n",
        "\n",
        "\n",
        "# OPTIONAL: You can use lazypredict, but you may run out of memory\n",
        "\n",
        "for model_name, model in classifiers.items():\n",
        "    try:\n",
        "        print(f\"--- Running: {model_name} ---\")\n",
        "\n",
        "        # Train the model using training data\n",
        "        model.fit(X_train_transformed, y_train)\n",
        "        \n",
        "        # Generate predictions on test data\n",
        "        y_pred = model.predict(X_test_transformed)\n",
        "\n",
        "        # Generate and print a classification report (scroll all the way down for some sample code)\n",
        "        print(classification_report(y_test, y_pred))\n",
        "    \n",
        "        # IF NEEDED: Clean up memory after each classifier runs\n",
        "        del model\n",
        "\n",
        "    except Exception as e:\n",
        "        print(f\"Error with {model_name}: {e}\")\n",
        "        continue  # Skip to the next classifier if an error occurs\n"
      ]
    },
    {
      "cell_type": "code",
      "execution_count": null,
      "metadata": {
        "id": "80UvMGAbe2F2"
      },
      "outputs": [],
      "source": [
        "from datasets import load_dataset\n",
        "from transformers import AutoTokenizer, AutoModelForSequenceClassification, TrainingArguments, Trainer\n",
        "from sklearn.metrics import precision_recall_fscore_support, accuracy_score\n",
        "\n",
        "\n",
        "dataset = load_dataset(\"imdb\")\n",
        "\n",
        "\n",
        "tokenizer = AutoTokenizer.from_pretrained(\"bert-large-uncased\")\n",
        "\n",
        "\n",
        "def tokenize_function(examples):\n",
        "    return tokenizer(examples[\"text\"], padding=\"max_length\", truncation=True, max_length=256)\n",
        "\n",
        "\n",
        "tokenized_datasets = dataset.map(tokenize_function, batched=True)\n",
        "\n",
        "tokenized_datasets = tokenized_datasets.remove_columns([\"text\"]).rename_column(\"label\", \"labels\")\n",
        "\n",
        "tokenized_datasets.set_format(\"torch\")\n",
        "\n",
        "train_dataset = tokenized_datasets[\"train\"]\n",
        "eval_dataset = tokenized_datasets[\"test\"]\n",
        "\n",
        "model = AutoModelForSequenceClassification.from_pretrained(\"bert-large-uncased\", num_labels=2)\n",
        "\n",
        "# TODO: PLAY WITH THE HYPERPARAMETERS\n",
        "training_args = TrainingArguments(\n",
        "    output_dir=\"./results\",\n",
        "    evaluation_strategy=\"epoch\",\n",
        "    save_strategy=\"epoch\",\n",
        "    learning_rate=2e-5,\n",
        "    warmup_steps=500,\n",
        "    lr_scheduler_type=\"cosine\",\n",
        "    per_device_train_batch_size=8,\n",
        "    gradient_accumulation_steps=2,\n",
        "    num_train_epochs=4,\n",
        "    weight_decay=0.1,\n",
        "    logging_dir=\"./logs\",\n",
        "    save_total_limit=2,\n",
        "    fp16=True,\n",
        "    report_to=\"none\"\n",
        ")\n",
        "\n",
        "def compute_metrics(eval_pred):\n",
        "    logits, labels = eval_pred\n",
        "    predictions = np.argmax(logits, axis=-1)\n",
        "    precision, recall, f1, _ = precision_recall_fscore_support(labels, predictions, average=\"weighted\")\n",
        "    accuracy = accuracy_score(labels, predictions)\n",
        "    return {\"accuracy\": accuracy, \"precision\": precision, \"recall\": recall, \"f1\": f1}\n",
        "\n",
        "trainer = Trainer(\n",
        "    model=model,\n",
        "    args=training_args,\n",
        "    train_dataset=train_dataset,\n",
        "    eval_dataset=eval_dataset,\n",
        "    compute_metrics=compute_metrics,\n",
        ")\n",
        "\n",
        "trainer.train()\n",
        "results = trainer.evaluate(eval_dataset)\n",
        "print(\"Evaluation Results:\", results)\n"
      ]
    },
    {
      "cell_type": "code",
      "execution_count": null,
      "metadata": {
        "id": "3O3iFgeIriQX"
      },
      "outputs": [],
      "source": [
        "# TODO: Adapt to Sentence BERT\n",
        "\n",
        "tokenizer = AutoTokenizer.from_pretrained(\"sentence-transformers/all-MiniLM-L6-v2\")\n",
        "model = AutoModel.from_pretrained(\"sentence-transformers/all-MiniLM-L6-v2\")"
      ]
    },
    {
      "cell_type": "code",
      "execution_count": null,
      "metadata": {
        "id": "BtksDfy4OfjS"
      },
      "outputs": [],
      "source": [
        "from sklearn.metrics import classification_report\n",
        "\n",
        "\n",
        "predictions = trainer.predict(eval_dataset)\n",
        "logits = predictions.predictions\n",
        "y_pred = np.argmax(logits, axis=1)\n",
        "if \"labels\" in eval_dataset.column_names:\n",
        "    y_true = eval_dataset[\"labels\"]\n",
        "elif \"label\" in eval_dataset.column_names:\n",
        "    y_true = eval_dataset[\"label\"]\n",
        "else:\n",
        "    raise ValueError(\"Neither 'labels' nor 'label' found in dataset!\")\n",
        "\n",
        "\n",
        "\n",
        "\n",
        "report = classification_report(y_true, y_pred, target_names=[\"Negative\", \"Positive\"])  # Adjust class names as needed\n",
        "print(\"Classification Report:\")\n",
        "print(report)\n"
      ]
    }
  ],
  "metadata": {
    "accelerator": "GPU",
    "colab": {
      "gpuType": "T4",
      "provenance": []
    },
    "kernelspec": {
      "display_name": ".venv",
      "language": "python",
      "name": "python3"
    },
    "language_info": {
      "codemirror_mode": {
        "name": "ipython",
        "version": 3
      },
      "file_extension": ".py",
      "mimetype": "text/x-python",
      "name": "python",
      "nbconvert_exporter": "python",
      "pygments_lexer": "ipython3",
      "version": "3.12.3"
    }
  },
  "nbformat": 4,
  "nbformat_minor": 0
}
