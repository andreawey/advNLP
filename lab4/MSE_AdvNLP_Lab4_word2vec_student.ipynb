{
 "cells": [
  {
   "cell_type": "markdown",
   "id": "quick-polls",
   "metadata": {},
   "source": [
    "![MSE Logo](https://moodle.msengineering.ch/pluginfile.php/1/core_admin/logo/0x150/1643104191/logo-mse.png)\n",
    "\n",
    "# AdvNLP Lab 4 GRADED: Testing a pretrained word2vec model on analogy tasks\n",
    "\n",
    "**Objectives:**  experiment with *word vectors* from word2vec: test them on analogy tasks; use *accuracy and MRR* (Mean Reciprocal Rank) scores.\n",
    "\n",
    "**Useful documentation:** the [section on KeyedVectors in Gensim](https://radimrehurek.com/gensim/models/keyedvectors.html) and possibly the [section on word2vec](https://radimrehurek.com/gensim/models/word2vec.html)."
   ]
  },
  {
   "cell_type": "markdown",
   "id": "sufficient-chase",
   "metadata": {},
   "source": [
    "## 1. Word2vec model trained on Google News\n",
    "**1a.** Please install the latest version of Gensim, preferably in a Conda environment. "
   ]
  },
  {
   "cell_type": "code",
   "execution_count": 1,
   "id": "extreme-birthday",
   "metadata": {},
   "outputs": [
    {
     "name": "stdout",
     "output_type": "stream",
     "text": [
      "Name: gensim\n",
      "Version: 4.3.3\n",
      "Summary: Python framework for fast Vector Space Modelling\n",
      "Home-page: https://radimrehurek.com/gensim/\n",
      "Author: Radim Rehurek\n",
      "Author-email: me@radimrehurek.com\n",
      "License: LGPL-2.1-only\n",
      "Location: C:\\Users\\andre\\Documents\\SUPSI\\NLP\\labs\\.advNLP\\Lib\\site-packages\n",
      "Requires: numpy, scipy, smart-open\n",
      "Required-by: \n"
     ]
    }
   ],
   "source": [
    "# !pip install --upgrade gensim\n",
    "# You can run the following verification:\n",
    "!pip show gensim"
   ]
  },
  {
   "cell_type": "code",
   "execution_count": 2,
   "id": "assumed-photographer",
   "metadata": {},
   "outputs": [],
   "source": [
    "import gensim, os, random\n",
    "from gensim import downloader\n",
    "from gensim.test.utils import datapath\n",
    "from gensim.models import KeyedVectors\n",
    "from gensim import utils\n",
    "# help(gensim.models.word2vec) # take a look if needed\n",
    "import time\n",
    "import itertools"
   ]
  },
  {
   "cell_type": "markdown",
   "id": "working-titanium",
   "metadata": {},
   "source": [
    "**1b.** Please download from Gensim the `word2vec-google-news-300` model, upon your first use.  Then, please write code to answer the following questions:\n",
    "* Where is the model stored on your computer and what is the file name?  You can store the absolute path in a variable called `path_to_model_file`.\n",
    "* What is the size of the corresponding file?  Please display the size in gigabytes with two decimals."
   ]
  },
  {
   "cell_type": "code",
   "execution_count": 3,
   "id": "infectious-burner",
   "metadata": {},
   "outputs": [],
   "source": [
    "# Download the model from Gensim (needed only the first time)\n",
    "#gensim.downloader.load(\"word2vec-google-news-300\")\n",
    "# No need to store the returned value (uses a lot of memory)."
   ]
  },
  {
   "cell_type": "code",
   "execution_count": 4,
   "id": "scheduled-binary",
   "metadata": {},
   "outputs": [
    {
     "name": "stdout",
     "output_type": "stream",
     "text": [
      "model is stored at C:\\Users\\andre/gensim-data\\word2vec-google-news-300\\word2vec-google-news-300.gz\n",
      "its size is 1.62 GB\n"
     ]
    }
   ],
   "source": [
    "# Where is the model stored on your computer and what is the file name?  You can store the absolute path in a variable called `path_to_model_file`.\n",
    "path_to_model_file = os.path.join(gensim.downloader.BASE_DIR, \"word2vec-google-news-300\", \"word2vec-google-news-300.gz\")\n",
    "print(f\"model is stored at {path_to_model_file}\")\n",
    "\n",
    "# What is the size of the corresponding file?  Please display the size in gigabytes with two decimals.\n",
    "print(f\"its size is {round(os.path.getsize(path_to_model_file) / (1024**3), 2)} GB\")\n"
   ]
  },
  {
   "cell_type": "markdown",
   "id": "western-insurance",
   "metadata": {},
   "source": [
    "**1c.** Please load the word2vec model as an instance of the class `KeyedVectors`, and store it in a variable called `wv_model`. \n",
    "What is, at this point, the memory size of the process corresponding to this notebook?  Simply write the value you obtain from any OS-specific utility that you like."
   ]
  },
  {
   "cell_type": "code",
   "execution_count": 5,
   "id": "instant-jewelry",
   "metadata": {},
   "outputs": [],
   "source": [
    "# Please write your Python code below and execute it.  Write the memory size on a commented line.\n",
    "wv_model = KeyedVectors.load_word2vec_format(datapath(path_to_model_file), binary=True)\n",
    "\n",
    "# memory size: 0.78 GB"
   ]
  },
  {
   "cell_type": "markdown",
   "id": "together-flooring",
   "metadata": {},
   "source": [
    "**1d.** Please write the instructions that generate the answers to the following questions.\n",
    "* What is the size of the vocabulary of the `wv_model` model?  \n",
    "* What is the dimensionality of each word vector?  \n",
    "* What is the word corresponding to the vector in position 1234?  \n",
    "* What are the first 10 coefficients of the word vector for the word *pyramid*?  "
   ]
  },
  {
   "cell_type": "code",
   "execution_count": 6,
   "id": "rubber-richardson",
   "metadata": {},
   "outputs": [
    {
     "name": "stdout",
     "output_type": "stream",
     "text": [
      "the size of the vocabulary of the wv_model is 3000000\n",
      "the dimensionality of each word vector is 300\n",
      "the word corresponding to the vector in position 1234 is learn\n",
      "the first 10 coefficients of the word vector for the word pyramid are [ 0.00402832 -0.00260925  0.04296875  0.19433594 -0.03979492 -0.06445312\n",
      "  0.42773438 -0.18359375 -0.27148438 -0.12890625]\n"
     ]
    }
   ],
   "source": [
    "# what is the size of the vocabulary of the wv_model ? \n",
    "print(f\"the size of the vocabulary of the wv_model is {len(wv_model.index_to_key)}\")\n",
    "\n",
    "# what is the dimensionality of each word vector ?\n",
    "print(f\"the dimensionality of each word vector is {wv_model.vector_size}\")\n",
    "\n",
    "# what is the word corresponding to the vector in position 1234? \n",
    "print(f\"the word corresponding to the vector in position 1234 is {wv_model.index_to_key[1234]}\")\n",
    "\n",
    "# what are the first 10 coefficients of the word vector for the word pyramid ?\n",
    "print(f\"the first 10 coefficients of the word vector for the word pyramid are {wv_model['pyramid'][:10]}\")\n"
   ]
  },
  {
   "cell_type": "markdown",
   "id": "governing-accessory",
   "metadata": {},
   "source": [
    "## 2. Solving analogies using word2vec trained on Google News\n",
    "In this section, you are going to use word vectors to solve analogy tasks provided with Gensim, such as \"What is to France what Rome is to Italy?\".  The predefined function in Gensim that evaluates a model on this task does not provide enough details, so you will need to make modifications to it."
   ]
  },
  {
   "cell_type": "markdown",
   "id": "a642353b",
   "metadata": {},
   "source": [
    "**2a.** The analogy tasks are stored in a text file called `questions-words.txt` which is typically found in `C:\\Users\\YourNameHere\\.conda\\envs\\YourEnvNameHere\\Lib\\site-packages\\gensim\\test\\test_data`.  You can access it from here with Gensim as `datapath('questions-words.txt')`.  \n",
    "\n",
    "Please create a file called `questions-words-100.txt` with the first 100 lines from the original file.  Please run the evaluation task on this file, using the [documentation of the KeyedVectors class](https://radimrehurek.com/gensim/models/keyedvectors.html), then answer the following questions:\n",
    "* How many analogy tasks are there in your `questions-words-100.txt` file?\n",
    "* How many analogies were solved correctly and how many incorrectly?\n",
    "* What is the accuracy returned by `evaluate_word_analogies`?\n",
    "* How much time did it take to solve the analogies?"
   ]
  },
  {
   "cell_type": "code",
   "execution_count": 7,
   "id": "21f9f20d",
   "metadata": {},
   "outputs": [],
   "source": [
    "with open(datapath('questions-words.txt'), 'r') as f:\n",
    "    lines = f.readlines()\n",
    "\n",
    "with open('questions-words-100.txt', 'w') as f:\n",
    "    f.writelines(lines[:100])"
   ]
  },
  {
   "cell_type": "code",
   "execution_count": 8,
   "id": "c1a7812b",
   "metadata": {},
   "outputs": [
    {
     "name": "stdout",
     "output_type": "stream",
     "text": [
      "There are 198 analogy tasks in the questions-words-100.txt file.\n",
      "There are 160 analogies solved correctly and 38 solved incorrectly.\n",
      "The accuracy returned by evaluate_word_analogies is 0.8081\n",
      "It took 3.49 seconds to evaluate the analogy tasks.\n"
     ]
    }
   ],
   "source": [
    "import time\n",
    "\n",
    "start_time = time.time()\n",
    "wv_model_eval = wv_model.evaluate_word_analogies('questions-words-100.txt')\n",
    "end_time = time.time()\n",
    "\n",
    "# Number of analogy tasks\n",
    "num_analogy_tasks = sum(len(section['correct']) + len(section['incorrect']) for section in wv_model_eval[1])\n",
    "print(f\"There are {num_analogy_tasks} analogy tasks in the questions-words-100.txt file.\")\n",
    "\n",
    "# Correct and incorrect analogies\n",
    "num_correct = sum(len(section['correct']) for section in wv_model_eval[1])\n",
    "num_incorrect = sum(len(section['incorrect']) for section in wv_model_eval[1])\n",
    "print(f\"There are {num_correct} analogies solved correctly and {num_incorrect} solved incorrectly.\")\n",
    "\n",
    "# Accuracy returned\n",
    "accuracy = wv_model_eval[0]\n",
    "print(f\"The accuracy returned by evaluate_word_analogies is {accuracy:.4f}\")\n",
    "\n",
    "# Time taken\n",
    "print(f\"It took {end_time - start_time:.2f} seconds to evaluate the analogy tasks.\")"
   ]
  },
  {
   "cell_type": "markdown",
   "id": "b8da425e",
   "metadata": {},
   "source": [
    "**2b.** Please answer in writing the following questions:\n",
    "* What is the meaning of the first line of `questions-words-100.txt`?\n",
    "* How many analogies are there in the original `questions-words.txt`?\n",
    "* How much time would it take to solve the original set of analogies?"
   ]
  },
  {
   "cell_type": "code",
   "execution_count": 9,
   "id": "66241a78",
   "metadata": {},
   "outputs": [
    {
     "name": "stdout",
     "output_type": "stream",
     "text": [
      "The first line of question-words-100.txt is : capital-common-countries\n",
      " and from the documentation we know that the first line is the section name.\n",
      "There are 19544 analogies in the original questions-words.txt file.\n",
      "It would take 344.75 seconds to solve the original set of analogies.\n"
     ]
    }
   ],
   "source": [
    "# what is the meaning of the first line of questions-words-100.txt ?\n",
    "print(f\"The first line of question-words-100.txt is {lines[0]} and from the documentation we know that the first line is the section name.\")\n",
    "\n",
    "# how many analogies are there in the original questions-words.txt file ?\n",
    "with open(datapath('questions-words.txt'), 'r') as f:\n",
    "    lines = f.readlines()\n",
    "\n",
    "num_analogies = [line for line in lines if not line.startswith(\":\")]\n",
    "\n",
    "print(f\"There are {len(num_analogies)} analogies in the original questions-words.txt file.\")\n",
    "\n",
    "# how much time would it take to solve the original set of analogies ?\n",
    "time_estimate = (end_time - start_time) / num_analogy_tasks * len(num_analogies)\n",
    "print(f\"It would take {time_estimate:.2f} seconds to solve the original set of analogies.\")\n",
    "\n"
   ]
  },
  {
   "cell_type": "markdown",
   "id": "683ea5d4",
   "metadata": {},
   "source": [
    "**2c.** The built-in function from Gensim has several weaknesses, which you will address here.  Please copy the source code of the function `evaluate_word_analogies` from the file `gensim\\models\\keyedvectors.py` and create here a new function which will improve the built-in one as follows.  The function will be called `my_evaluate_word_analogies` and you will also pass it the model as the first argument.  Overall, please proceed gradually and only make minimal modifications, to ensure you don't break the function.  It is important to first understand the structure of the result, `analogies_scores` and `sections`. \n",
    "\n",
    "* Modify the line where `section[incorrect]` is assembled in order to also add to each analogy the *incorrect guess* (i.e. what the model thought was the good answer, but got it wrong).\n",
    "\n",
    "* Modify the code so that when `section[incorrect]` is assembled, you also add the *rank of the correct answer* among the candidates returned by the system (after the incorrect guess).  If the correct answer is not present at all, then code the rank as 0."
   ]
  },
  {
   "cell_type": "code",
   "execution_count": 10,
   "id": "52965400",
   "metadata": {},
   "outputs": [],
   "source": [
    "import itertools\n",
    "import logging\n",
    "import random\n",
    "from gensim import utils\n",
    "\n",
    "logger = logging.getLogger(__name__)\n",
    "\n",
    "def my_evaluate_word_analogies(model, analogies, restrict_vocab=300000, case_insensitive=True):\n",
    "    oov = 0\n",
    "    logger.info(\"Evaluating word analogies for top %i words in the model on %s\", restrict_vocab, analogies)\n",
    "    sections, section = [], None\n",
    "    quadruplets_no = 0\n",
    "\n",
    "    with utils.open(analogies, 'rb') as fin:\n",
    "        for line_no, line in enumerate(fin):\n",
    "            line = utils.to_unicode(line).strip()\n",
    "            if line.startswith(': '):\n",
    "                if section:\n",
    "                    sections.append(section)\n",
    "                section = {'section': line.lstrip(': ').strip(), 'correct': [], 'incorrect': []}\n",
    "            else:\n",
    "                if not section:\n",
    "                    raise ValueError(f\"Missing section header before line #{line_no} in {analogies}\")\n",
    "\n",
    "                try:\n",
    "                    if case_insensitive:\n",
    "                        a, b, c, expected = [word.upper() for word in line.split()]\n",
    "                    else:\n",
    "                        a, b, c, expected = [word for word in line.split()]\n",
    "                except ValueError:\n",
    "                    logger.info(f\"Skipping invalid line #{line_no} in {analogies}\")\n",
    "                    continue\n",
    "\n",
    "                quadruplets_no += 1\n",
    "\n",
    "                # Check vocabulary presence using Gensim's built-in method\n",
    "                if not (model.has_index_for(a) and model.has_index_for(b) and model.has_index_for(c) and model.has_index_for(expected)):\n",
    "                    oov += 1\n",
    "                    section['incorrect'].append((a, b, c, expected, None, 0))  # No guess, rank = 0\n",
    "                    continue\n",
    "\n",
    "                ignore = {a, b, c}\n",
    "\n",
    "                try:\n",
    "                    sims = model.most_similar(positive=[b, c], negative=[a], topn=5, restrict_vocab=restrict_vocab)\n",
    "                except KeyError as e:\n",
    "                    logger.warning(f\"Skipping analogy due to missing words: {e}\")\n",
    "                    oov += 1\n",
    "                    section['incorrect'].append((a, b, c, expected, None, 0))\n",
    "                    continue\n",
    "\n",
    "                predicted = None\n",
    "                rank = 0\n",
    "                for idx, (word, _) in enumerate(sims, start=1):\n",
    "                    predicted = word.upper() if case_insensitive else word\n",
    "                    if predicted in ignore:\n",
    "                        continue\n",
    "                    if predicted == expected:\n",
    "                        rank = idx\n",
    "                        break\n",
    "\n",
    "                if predicted == expected:\n",
    "                    section['correct'].append((a, b, c, expected))\n",
    "                else:\n",
    "                    section['incorrect'].append((a, b, c, expected, predicted, rank if rank else 0))\n",
    "\n",
    "    if section:\n",
    "        sections.append(section)\n",
    "\n",
    "    total = {\n",
    "        'section': 'Total accuracy',\n",
    "        'correct': list(itertools.chain.from_iterable(s['correct'] for s in sections)),\n",
    "        'incorrect': list(itertools.chain.from_iterable(s['incorrect'] for s in sections)),\n",
    "    }\n",
    "\n",
    "    oov_ratio = float(oov) / quadruplets_no * 100 if quadruplets_no > 0 else 0\n",
    "    logger.info('Quadruplets with out-of-vocabulary words: %.1f%%', oov_ratio)\n",
    "\n",
    "    sections.append(total)\n",
    "    return sections"
   ]
  },
  {
   "cell_type": "markdown",
   "id": "062fec19",
   "metadata": {},
   "source": [
    "**2d.** Please run the `my_evaluate_word_analogies` function on `questions-words-100.txt` and then write instructions to display, from the results stored in `analogy_scores`:\n",
    "* one incorrectly-solved analogy (selected at random), including also the error made by the model and the rank of the correct answer, thus adding:\n",
    "  - a fifth word, which is the incorrect one found by the model\n",
    "  - a sixth term, which is the integer indicating the rank (or 0)\n",
    "* one correctly-solved analogy selected at random (in principle, four terms)."
   ]
  },
  {
   "cell_type": "code",
   "execution_count": 11,
   "id": "composite-fundamentals",
   "metadata": {},
   "outputs": [
    {
     "name": "stdout",
     "output_type": "stream",
     "text": [
      "Incorrect example:('BANGKOK', 'THAILAND', 'LONDON', 'ENGLAND', 'BRITISH', 0)\n",
      "Correct example:('BERLIN', 'GERMANY', 'HANOI', 'VIETNAM')\n"
     ]
    }
   ],
   "source": [
    "# Please write your Python code below and execute it.\n",
    "sections = my_evaluate_word_analogies(wv_model,'questions-words-100.txt')\n",
    "incorrect = sections[-1]['incorrect']\n",
    "correct = sections[-1]['correct']\n",
    "\n",
    "if incorrect:\n",
    "    print(f\"Incorrect example:{random.choice(incorrect)}\")\n",
    "if correct:\n",
    "    print(f\"Correct example:{random.choice(correct)}\")"
   ]
  },
  {
   "cell_type": "markdown",
   "id": "broadband-contest",
   "metadata": {},
   "source": [
    "**2e.** Please write a function to compute the MRR score given a structure with correctly and incorrectly solved analogies, such as the one that is found in the results from `evaluate_word_analogies`.  The structure is not divided into categories.\n",
    "\n",
    "The Mean Reciprocal Rank (please use the [formula here](https://en.wikipedia.org/wiki/Mean_reciprocal_rank)) gives some credit for incorrectly solved analogies, in inverse proportion to the rank of the correct answer among the candidates.  This rank is 1 for correctly solved analogies (full credit), and 1/k (or 0) for incorrectly solved ones."
   ]
  },
  {
   "cell_type": "code",
   "execution_count": 12,
   "id": "f5dc33e6",
   "metadata": {},
   "outputs": [],
   "source": [
    "# Please define here the function that computes MRR from the information stored in analogy_scores\n",
    "def myMRR(analogies):\n",
    "    '''\n",
    "    Compute the Mean Reciprocal Rank (MRR) of the model based on the analogy scores.\n",
    "    For correct analogies, rank is 1 (so reciprocal is 1)\n",
    "    For incorrect analogies, use the rank stored in position 5, or 0 if not found\n",
    "    '''\n",
    "    total_analogies = len(analogies['correct']) + len(analogies['incorrect'])\n",
    "    if total_analogies == 0:\n",
    "        return 0.0\n",
    "    \n",
    "    reciprocal_ranks = []\n",
    "    \n",
    "    # For correct analogies, rank is 1\n",
    "    reciprocal_ranks.extend([1.0] * len(analogies['correct']))\n",
    "    \n",
    "    # For incorrect analogies, use stored rank\n",
    "    for incorrect in analogies['incorrect']:\n",
    "        rank = incorrect[5]  # Rank is stored in position 5\n",
    "        reciprocal_ranks.append(1/rank if rank > 0 else 0)\n",
    "    \n",
    "    return sum(reciprocal_ranks) / total_analogies\n",
    "\n",
    "# example usage:\n",
    "analogy_scores = (\n",
    "    0.75,  # Example accuracy score\n",
    "    [\n",
    "        {'section': 'Category 1', 'correct': [('king', 'man', 'queen', 'woman')], 'incorrect': [('apple', 'fruit', 'banana', 'vegetable', 'orange', 2)]},\n",
    "        {'section': 'Category 2', 'correct': [('cat', 'animal', 'dog', 'pet')], 'incorrect': [('car', 'vehicle', 'bike', 'transport', 'plane', 3)]},\n",
    "        {'section': 'Total accuracy', 'correct': [('king', 'man', 'queen', 'woman'), ('cat', 'animal', 'dog', 'pet')], 'incorrect': [('apple', 'fruit', 'banana', 'vegetable', 'orange', 2), ('car', 'vehicle', 'bike', 'transport', 'plane', 3)]}\n",
    "    ]\n",
    ")\n"
   ]
  },
  {
   "cell_type": "code",
   "execution_count": 13,
   "id": "primary-breach",
   "metadata": {},
   "outputs": [
    {
     "name": "stdout",
     "output_type": "stream",
     "text": [
      "Total number of analogies: 4\n",
      "Total number of categories: 2\n",
      "Overall accuracy: 0.75 and MRR: 0.71\n"
     ]
    }
   ],
   "source": [
    "# Please test your MRR function by running the following code, which  displays the total number of analogy tasks, \n",
    "# the number of different categories (sections), the accuracy of the results (total number of correctly \n",
    "# solved analogies), and the MRR score of the results:\n",
    "print(\"Total number of analogies:\",  # The last dictionary is the total\n",
    "      len(analogy_scores[1][-1]['correct']) + \n",
    "      len(analogy_scores[1][-1]['incorrect']))\n",
    "print(\"Total number of categories:\", len(analogy_scores[1]) - 1) # the \"total\" is excluded \n",
    "print(f\"Overall accuracy: {analogy_scores[0]:.2f} and MRR: {myMRR(analogy_scores[1][-1]):.2f}\")"
   ]
  },
  {
   "cell_type": "markdown",
   "id": "bbd4662a",
   "metadata": {},
   "source": [
    "**2f.** Please compute now the accuracy and MRR and the total time for the entire `questions-words.txt` file.  Is the timing compatible with your estimate from (2b)?  What do you think about the difference between accuracy and MRR? "
   ]
  },
  {
   "cell_type": "code",
   "execution_count": 14,
   "id": "07f2842d",
   "metadata": {},
   "outputs": [
    {
     "name": "stdout",
     "output_type": "stream",
     "text": [
      "The accuracy returned by my_evaluate_word_analogies is 0.8889\n",
      "The MRR score of the results is 0.8889\n",
      "It took 1.27 seconds to evaluate the analogy tasks.\n",
      "Estimated time from 2b: 344.75 seconds\n"
     ]
    }
   ],
   "source": [
    "# Please write your Python code below and execute it.\n",
    "\n",
    "start_time = time.time()\n",
    "sections = my_evaluate_word_analogies(wv_model,'questions-words-100.txt')\n",
    "end_time = time.time()\n",
    "\n",
    "# accuracy returned\n",
    "accuracy = sum(len(section['correct']) for section in sections) / sum(len(section['correct']) + len(section['incorrect']) for section in sections)\n",
    "print(f\"The accuracy returned by my_evaluate_word_analogies is {accuracy:.4f}\")\n",
    "\n",
    "# MRR score\n",
    "mrr = myMRR(sections[-1])\n",
    "print(f\"The MRR score of the results is {mrr:.4f}\")\n",
    "\n",
    "# Time taken\n",
    "print(f\"It took {end_time - start_time:.2f} seconds to evaluate the analogy tasks.\")\n",
    "\n",
    "# compare with estimate from 2b\n",
    "print(f\"Estimated time from 2b: {time_estimate:.2f} seconds\")"
   ]
  },
  {
   "cell_type": "code",
   "execution_count": 15,
   "id": "6a6be580",
   "metadata": {},
   "outputs": [],
   "source": [
    "# Please write you answer here."
   ]
  },
  {
   "cell_type": "markdown",
   "id": "economic-shore",
   "metadata": {},
   "source": [
    "## End of AdvNLP Lab 4\n",
    "Please submit your lab report as a .ipynb file after you have fully run and checked it in Google Colab; then upload it to Moodle.\n",
    "Please submit one notebook per group only and do not forget to put the last names of all team members in the filename."
   ]
  }
 ],
 "metadata": {
  "kernelspec": {
   "display_name": "Python 3",
   "language": "python",
   "name": "python3"
  },
  "language_info": {
   "codemirror_mode": {
    "name": "ipython",
    "version": 3
   },
   "file_extension": ".py",
   "mimetype": "text/x-python",
   "name": "python",
   "nbconvert_exporter": "python",
   "pygments_lexer": "ipython3",
   "version": "3.12.9"
  }
 },
 "nbformat": 4,
 "nbformat_minor": 5
}
