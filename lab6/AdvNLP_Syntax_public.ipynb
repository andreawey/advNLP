{
  "cells": [
    {
      "cell_type": "markdown",
      "metadata": {
        "id": "VbGW-4E9ZHng"
      },
      "source": [
        "# AdvNLP Lab - Neural Dependency Parser\n",
        "\n",
        "In this lab session, we will familiarize ourselves with the neural dependency parser described in the paper **A Fast and Accurate Dependency Parser using Neural Networks** written by Danqi Chen and Christopher Manning and published at the 2014 Conference on Empirical Methods in Natural Language Processing (EMNLP).\n",
        "\n"
      ]
    },
    {
      "cell_type": "code",
      "execution_count": null,
      "metadata": {
        "colab": {
          "base_uri": "https://localhost:8080/"
        },
        "id": "KnyMAlGzOo3W",
        "outputId": "29312327-fb59-4351-aa94-f65205b6e9e8"
      },
      "outputs": [
        {
          "output_type": "stream",
          "name": "stdout",
          "text": [
            "['.config', 'Syntax_b.zip', 'sample_data']\n"
          ]
        }
      ],
      "source": [
        "import os, numpy as np\n",
        "\n",
        "\n",
        "def download_from_url(url, save_path, chunk_size=128):\n",
        "    import requests\n",
        "    r = requests.get(url, stream=True)\n",
        "    with open(save_path, 'wb') as fd:\n",
        "        for chunk in r.iter_content(chunk_size=chunk_size):\n",
        "            fd.write(chunk)\n",
        "\n",
        "if 'Syntax_b.zip' not in os.listdir():\n",
        "   download_from_url('https://www.dropbox.com/scl/fi/c3q4znk9ezo2d331f5ved/Syntax_b.zip?rlkey=h129zntf9qtfo7okn8s5s3cfu&dl=1', 'Syntax_b.zip')\n",
        "\n",
        "print (os.listdir())\n",
        "\n",
        "def unzip(zipped):\n",
        "    import zipfile\n",
        "    with zipfile.ZipFile(zipped,\"r\") as zip_ref:\n",
        "        zip_ref.extractall(\".\")\n",
        "\n",
        "\n",
        "unzip('Syntax_b.zip')\n",
        "os.chdir('Syntax_b')"
      ]
    },
    {
      "cell_type": "markdown",
      "metadata": {
        "id": "0FFvBXUPeSxy"
      },
      "source": [
        "This first part of the implementation contains the neural network that predicts which transition should be applied to a given partial parse configuration."
      ]
    },
    {
      "cell_type": "code",
      "execution_count": null,
      "metadata": {
        "id": "ghG8zeXRT0wb"
      },
      "outputs": [],
      "source": [
        "import torch\n",
        "import torch.nn as nn\n",
        "\n",
        "\n",
        "class ParserModel(nn.Module):\n",
        "    \"\"\" Feedforward neural network with an embedding layer and single hidden layer.\n",
        "    The ParserModel will predict which transition should be applied to a\n",
        "    given partial parse configuration.\n",
        "\n",
        "    PyTorch Notes:\n",
        "        - Note that \"ParserModel\" is a subclass of the \"nn.Module\" class. In PyTorch all neural networks\n",
        "            are a subclass of this \"nn.Module\".\n",
        "        - The \"__init__\" method is where you define all the layers and their respective parameters\n",
        "            (embedding layers, linear layers, dropout layers, etc.).\n",
        "        - \"__init__\" gets automatically called when you create a new instance of your class, e.g.\n",
        "            when you write \"m = ParserModel()\".\n",
        "        - Other methods of ParserModel can access variables that have \"self.\" prefix. Thus,\n",
        "            you should add the \"self.\" prefix layers, values, etc. that you want to utilize\n",
        "            in other ParserModel methods.\n",
        "        - For further documentation on \"nn.Module\" please see https://pytorch.org/docs/stable/nn.html.\n",
        "    \"\"\"\n",
        "    def __init__(self, embeddings, n_features=36,\n",
        "        hidden_size=200, n_classes=3, dropout_prob=0.5):\n",
        "        \"\"\" Initialize the parser model.\n",
        "\n",
        "        @param embeddings (Tensor): word embeddings (num_words, embedding_size)\n",
        "        @param n_features (int): number of input features\n",
        "        @param hidden_size (int): number of hidden units\n",
        "        @param n_classes (int): number of output classes\n",
        "        @param dropout_prob (float): dropout probability\n",
        "        \"\"\"\n",
        "        super(ParserModel, self).__init__()\n",
        "        self.n_features = n_features\n",
        "        self.n_classes = n_classes\n",
        "        self.dropout_prob = dropout_prob\n",
        "        self.embed_size = embeddings.shape[1]\n",
        "        self.hidden_size = hidden_size\n",
        "        self.pretrained_embeddings = nn.Embedding(embeddings.shape[0], self.embed_size)\n",
        "        self.pretrained_embeddings.weight = nn.Parameter(torch.tensor(embeddings))\n",
        "\n",
        "\n",
        "\n",
        "        ### YOUR CODE HERE (~5 Lines)\n",
        "        ### TODO:\n",
        "        ###     1) Construct `self.embed_to_hidden` linear layer, initializing the weight matrix\n",
        "        ###         with the `nn.init.xavier_uniform_` function with `gain = 1` (default)\n",
        "        self.embed_to_hidden = nn.Linear(self.embed_size * self.n_features, self.hidden_size)\n",
        "\n",
        "        ###     2) Construct `self.dropout` layer.\n",
        "        self.dropout = nn.Dropout(self.dropout_prob)\n",
        "\n",
        "        ###     3) Construct `self.hidden_to_logits` linear layer, initializing the weight matrix\n",
        "        ###         with the `nn.init.xavier_uniform_` function with `gain = 1` (default)\n",
        "        self.hidden_to_logits = nn.Linear(self.hidden_size, self.n_classes)\n",
        "\n",
        "        ###\n",
        "        ### Note: Here, we use Xavier Uniform Initialization for our Weight initialization.\n",
        "        ###         It has been shown empirically, that this provides better initial weights\n",
        "        ###         for training networks than random uniform initialization.\n",
        "        ###         For more details checkout this great blogpost:\n",
        "        ###             http://andyljones.tumblr.com/post/110998971763/an-explanation-of-xavier-initialization\n",
        "        ### Hints:\n",
        "        ###     - After you create a linear layer you can access the weight\n",
        "        ###       matrix via:\n",
        "        ###         linear_layer.weight\n",
        "        ###\n",
        "        ### Please see the following docs for support:\n",
        "        ###     Linear Layer: https://pytorch.org/docs/stable/nn.html#torch.nn.Linear\n",
        "        ###     Xavier Init: https://pytorch.org/docs/stable/nn.html#torch.nn.init.xavier_uniform_\n",
        "        ###     Dropout: https://pytorch.org/docs/stable/nn.html#torch.nn.Dropout\n",
        "        ###\n",
        "        ### [How to initialize weights in PyTorch? - Stack Overflow](https://stackoverflow.com/questions/49433936/how-to-initialize-weights-in-pytorch)\n",
        "\n",
        "\n",
        "        ### END YOUR CODE\n",
        "\n",
        "    def embedding_lookup(self, t):\n",
        "        \"\"\" Utilize `self.pretrained_embeddings` to map input `t` from input tokens (integers)\n",
        "            to embedding vectors.\n",
        "\n",
        "            PyTorch Notes:\n",
        "                - `self.pretrained_embeddings` is a torch.nn.Embedding object that we defined in __init__\n",
        "                - Here `t` is a tensor where each row represents a list of features. Each feature is represented by an integer (input token).\n",
        "                - In PyTorch the Embedding object, e.g. `self.pretrained_embeddings`, allows you to\n",
        "                    go from an index to embedding. Please see the documentation (https://pytorch.org/docs/stable/nn.html#torch.nn.Embedding)\n",
        "                    to learn how to use `self.pretrained_embeddings` to extract the embeddings for your tensor `t`.\n",
        "\n",
        "            @param t (Tensor): input tensor of tokens (batch_size, n_features)\n",
        "\n",
        "            @return x (Tensor): tensor of embeddings for words represented in t\n",
        "                                (batch_size, n_features * embed_size)\n",
        "        \"\"\"\n",
        "        ### YOUR CODE HERE (~1-3 Lines)\n",
        "        ### TODO:\n",
        "        ###     1) Use `self.pretrained_embeddings` to lookup the embeddings for the input tokens in `t`\n",
        "        self.pretrained_embeddings.weight\n",
        "        x = self.pretrained_embeddings(t)\n",
        "\n",
        "        ###     2) After you apply the embedding lookup, you will have a tensor shape (batch_size, n_features, embedding_size).\n",
        "        ###         Use the tensor `view` method to reshape the embeddings tensor to (batch_size, n_features * embedding_size)\n",
        "        x = x.view(x.shape[0], -1)\n",
        "        ###\n",
        "        ### Note: In order to get batch_size, you may need use the tensor .size() function:\n",
        "        ###         https://pytorch.org/docs/stable/tensors.html#torch.Tensor.size\n",
        "        ###\n",
        "        ###  Please see the following docs for support:\n",
        "        ###     Embedding Layer: https://pytorch.org/docs/stable/nn.html#torch.nn.Embedding\n",
        "        ###     View: https://pytorch.org/docs/stable/tensors.html#torch.Tensor.view\n",
        "\n",
        "\n",
        "        ### END YOUR CODE\n",
        "        return x\n",
        "\n",
        "\n",
        "    def forward(self, t):\n",
        "        \"\"\" Run the model forward.\n",
        "\n",
        "            Note that we will not apply the softmax function here because it is included in the loss function nn.CrossEntropyLoss\n",
        "\n",
        "            PyTorch Notes:\n",
        "                - Every nn.Module object (PyTorch model) has a `forward` function.\n",
        "                - When you apply your nn.Module to an input tensor `t` this function is applied to the tensor.\n",
        "                    For example, if you created an instance of your ParserModel and applied it to some `t` as follows,\n",
        "                    the `forward` function would called on `t` and the result would be stored in the `output` variable:\n",
        "                        model = ParserModel()\n",
        "                        output = model(t) # this calls the forward function\n",
        "                - For more details checkout: https://pytorch.org/docs/stable/nn.html#torch.nn.Module.forward\n",
        "\n",
        "        @param t (Tensor): input tensor of tokens (batch_size, n_features)\n",
        "\n",
        "        @return logits (Tensor): tensor of predictions (output after applying the layers of the network)\n",
        "                                 without applying softmax (batch_size, n_classes)\n",
        "        \"\"\"\n",
        "        ###  YOUR CODE HERE (~3-5 lines)\n",
        "        ### TODO:\n",
        "        ###     1) Apply `self.embedding_lookup` to `t` to get the embeddings\n",
        "        x = self.embedding_lookup(t)\n",
        "        ###     2) Apply `embed_to_hidden` linear layer to the embeddings\n",
        "        y = self.embed_to_hidden(x)\n",
        "        ###     3) Apply relu non-linearity to the output of step 2 to get the hidden units.\n",
        "        y = torch.relu(y)\n",
        "        ###     4) Apply dropout layer to the output of step 3.\n",
        "        y = self.dropout(y)\n",
        "        ###     5) Apply `hidden_to_logits` layer to the output of step 4 to get the logits.\n",
        "        logits = self.hidden_to_logits(y)\n",
        "        ###\n",
        "        ### Note: We do not apply the softmax to the logits here, because\n",
        "        ### the loss function (torch.nn.CrossEntropyLoss) applies it more efficiently.\n",
        "        ###\n",
        "        ### Please see the following docs for support:\n",
        "        ###     ReLU: https://pytorch.org/docs/stable/nn.html?highlight=relu#torch.nn.functional.relu\n",
        "\n",
        "\n",
        "        ### END YOUR CODE\n",
        "        return logits\n"
      ]
    },
    {
      "cell_type": "markdown",
      "metadata": {
        "id": "LrCUq4mGbZDl"
      },
      "source": [
        "The second part of the implementation contains the rest of the parser logic."
      ]
    },
    {
      "cell_type": "code",
      "execution_count": null,
      "metadata": {
        "id": "l_0bMdcNbjxa"
      },
      "outputs": [],
      "source": [
        "class PartialParse(object):\n",
        "    def __init__(self, sentence):\n",
        "        \"\"\"Initializes this partial parse.\n",
        "\n",
        "        @param sentence (list of str): The sentence to be parsed as a list of words.\n",
        "                                        Your code should not modify the sentence.\n",
        "        \"\"\"\n",
        "        # The sentence being parsed is kept for bookkeeping purposes. Do not alter it in your code.\n",
        "        self.sentence = sentence\n",
        "\n",
        "        ### YOUR CODE HERE (3 Lines)\n",
        "        ### Your code should initialize the following fields:\n",
        "        ###     self.stack: The current stack represented as a list with the top of the stack as the\n",
        "        ###                 last element of the list.\n",
        "        ###     self.buffer: The current buffer represented as a list with the first item on the\n",
        "        ###                  buffer as the first item of the list\n",
        "        ###     self.dependencies: The list of dependencies produced so far. Represented as a list of\n",
        "        ###             tuples where each tuple is of the form (head, dependent).\n",
        "        ###             Order for this list doesn't matter.\n",
        "        ###\n",
        "        ### Note: The root token should be represented with the string \"ROOT\"\n",
        "        ###\n",
        "\n",
        "        self.stack = ['ROOT']\n",
        "        self.buffer = sentence[:]\n",
        "        self.dependencies = []\n",
        "\n",
        "        ### END YOUR CODE\n",
        "\n",
        "\n",
        "    def parse_step(self, transition):\n",
        "        \"\"\"Performs a single parse step by applying the given transition to this partial parse\n",
        "\n",
        "        @param transition (str): A string that equals \"S\", \"LA\", or \"RA\" representing the shift,\n",
        "                                left-arc, and right-arc transitions. You can assume the provided\n",
        "                                transition is a legal transition.\n",
        "        \"\"\"\n",
        "        ### YOUR CODE HERE (~7-10 Lines)\n",
        "        ### TODO:\n",
        "        ###     Implement a single parsing step, i.e. the logic for the following as\n",
        "        ###     described in the pdf handout:\n",
        "        ###         1. Shift\n",
        "        ###         2. Left Arc\n",
        "        ###         3. Right Arc\n",
        "\n",
        "        assert transition in ('S', 'LA', 'RA')\n",
        "        if transition == 'S':\n",
        "          self.stack.append(self.buffer[0])\n",
        "          self.buffer.pop(0)\n",
        "        elif transition == 'LA':\n",
        "          self.dependencies.append((self.stack[-2], self.stack[-1]))  # (head, dependent)\n",
        "          self.stack.pop(-1)\n",
        "        elif transition == 'RA':\n",
        "          self.dependencies.append((self.stack[-1], self.stack[-2]))  # (head, dependent)\n",
        "          self.stack.pop(-2)\n",
        "\n",
        "\n",
        "\n",
        "        ### END YOUR CODE\n",
        "\n",
        "    def parse(self, transitions):\n",
        "        \"\"\"Applies the provided transitions to this PartialParse\n",
        "\n",
        "        @param transitions (list of str): The list of transitions in the order they should be applied\n",
        "\n",
        "        @return dsependencies (list of string tuples): The list of dependencies produced when\n",
        "                                                        parsing the sentence. Represented as a list of\n",
        "                                                        tuples where each tuple is of the form (head, dependent).\n",
        "        \"\"\"\n",
        "        for transition in transitions:\n",
        "            self.parse_step(transition)\n",
        "        return self.dependencies\n",
        "\n",
        "\n",
        "def minibatch_parse(sentences, model, batch_size):\n",
        "    \"\"\"Parses a list of sentences in minibatches using a model.\n",
        "\n",
        "    @param sentences (list of list of str): A list of sentences to be parsed\n",
        "                                            (each sentence is a list of words and each word is of type string)\n",
        "    @param model (ParserModel): The model that makes parsing decisions. It is assumed to have a function\n",
        "                                model.predict(partial_parses) that takes in a list of PartialParses as input and\n",
        "                                returns a list of transitions predicted for each parse. That is, after calling\n",
        "                                    transitions = model.predict(partial_parses)\n",
        "                                transitions[i] will be the next transition to apply to partial_parses[i].\n",
        "    @param batch_size (int): The number of PartialParses to include in each minibatch\n",
        "\n",
        "\n",
        "    @return dependencies (list of dependency lists): A list where each element is the dependencies\n",
        "                                                    list for a parsed sentence. Ordering should be the\n",
        "                                                    same as in sentences (i.e., dependencies[i] should\n",
        "                                                    contain the parse for sentences[i]).\n",
        "    \"\"\"\n",
        "    dependencies = []\n",
        "\n",
        "    partial_parses = [PartialParse(sentence) for sentence in sentences]\n",
        "    unfinished_parses = partial_parses[:] # shallow copy\n",
        "    while unfinished_parses:\n",
        "        minibatch_pps = unfinished_parses[:batch_size]\n",
        "        transitions = model.predict(minibatch_pps)\n",
        "        for pp, transition in zip(minibatch_pps, transitions):\n",
        "            pp.parse_step(transition)\n",
        "            if len(pp.buffer) == 0 and len(pp.stack) == 1:\n",
        "                unfinished_parses.remove(pp)\n",
        "\n",
        "    dependencies = [pp.dependencies for pp in partial_parses]\n",
        "\n",
        "    return dependencies"
      ]
    },
    {
      "cell_type": "markdown",
      "metadata": {
        "id": "XfzynTzIdILl"
      },
      "source": [
        "The following cell runs the dependency parser over our data."
      ]
    },
    {
      "cell_type": "code",
      "execution_count": null,
      "metadata": {
        "colab": {
          "base_uri": "https://localhost:8080/"
        },
        "id": "TXQPgw9wdR2R",
        "outputId": "bfc1dc39-02df-4231-8f13-4d7b014e378d"
      },
      "outputs": [
        {
          "output_type": "stream",
          "name": "stdout",
          "text": [
            "================================================================================\n",
            "INITIALIZING\n",
            "================================================================================\n",
            "Loading data...\n",
            "took 1.49 seconds\n",
            "Building parser...\n",
            "took 0.91 seconds\n",
            "Loading pretrained embeddings...\n",
            "took 2.47 seconds\n",
            "Vectorizing data...\n",
            "took 1.98 seconds\n",
            "Preprocessing training data...\n",
            "took 31.59 seconds\n",
            "took 0.09 seconds\n",
            "\n",
            "================================================================================\n",
            "TRAINING\n",
            "================================================================================\n",
            "Epoch 1 out of 10\n"
          ]
        },
        {
          "output_type": "stream",
          "name": "stderr",
          "text": [
            "100%|██████████| 1848/1848 [02:02<00:00, 15.04it/s]\n"
          ]
        },
        {
          "output_type": "stream",
          "name": "stdout",
          "text": [
            "Average Train Loss: 0.16862724924629385\n",
            "Evaluating on dev set\n"
          ]
        },
        {
          "output_type": "stream",
          "name": "stderr",
          "text": [
            "1445850it [00:00, 62987748.38it/s]      \n"
          ]
        },
        {
          "output_type": "stream",
          "name": "stdout",
          "text": [
            "- dev UAS: 84.44\n",
            "New best dev UAS! Saving model.\n",
            "\n",
            "Epoch 2 out of 10\n"
          ]
        },
        {
          "output_type": "stream",
          "name": "stderr",
          "text": [
            "100%|██████████| 1848/1848 [01:46<00:00, 17.36it/s]\n"
          ]
        },
        {
          "output_type": "stream",
          "name": "stdout",
          "text": [
            "Average Train Loss: 0.1106744853424884\n",
            "Evaluating on dev set\n"
          ]
        },
        {
          "output_type": "stream",
          "name": "stderr",
          "text": [
            "1445850it [00:00, 34925157.16it/s]      \n"
          ]
        },
        {
          "output_type": "stream",
          "name": "stdout",
          "text": [
            "- dev UAS: 86.35\n",
            "New best dev UAS! Saving model.\n",
            "\n",
            "Epoch 3 out of 10\n"
          ]
        },
        {
          "output_type": "stream",
          "name": "stderr",
          "text": [
            "100%|██████████| 1848/1848 [01:47<00:00, 17.15it/s]\n"
          ]
        },
        {
          "output_type": "stream",
          "name": "stdout",
          "text": [
            "Average Train Loss: 0.09768259134627395\n",
            "Evaluating on dev set\n"
          ]
        },
        {
          "output_type": "stream",
          "name": "stderr",
          "text": [
            "1445850it [00:00, 58954876.71it/s]      \n"
          ]
        },
        {
          "output_type": "stream",
          "name": "stdout",
          "text": [
            "- dev UAS: 87.15\n",
            "New best dev UAS! Saving model.\n",
            "\n",
            "Epoch 4 out of 10\n"
          ]
        },
        {
          "output_type": "stream",
          "name": "stderr",
          "text": [
            "100%|██████████| 1848/1848 [01:50<00:00, 16.76it/s]\n"
          ]
        },
        {
          "output_type": "stream",
          "name": "stdout",
          "text": [
            "Average Train Loss: 0.0896377225741099\n",
            "Evaluating on dev set\n"
          ]
        },
        {
          "output_type": "stream",
          "name": "stderr",
          "text": [
            "1445850it [00:00, 63507534.18it/s]      \n"
          ]
        },
        {
          "output_type": "stream",
          "name": "stdout",
          "text": [
            "- dev UAS: 87.84\n",
            "New best dev UAS! Saving model.\n",
            "\n",
            "Epoch 5 out of 10\n"
          ]
        },
        {
          "output_type": "stream",
          "name": "stderr",
          "text": [
            "100%|██████████| 1848/1848 [01:48<00:00, 17.10it/s]\n"
          ]
        },
        {
          "output_type": "stream",
          "name": "stdout",
          "text": [
            "Average Train Loss: 0.08356167616935455\n",
            "Evaluating on dev set\n"
          ]
        },
        {
          "output_type": "stream",
          "name": "stderr",
          "text": [
            "1445850it [00:00, 63627472.86it/s]      \n"
          ]
        },
        {
          "output_type": "stream",
          "name": "stdout",
          "text": [
            "- dev UAS: 88.34\n",
            "New best dev UAS! Saving model.\n",
            "\n",
            "Epoch 6 out of 10\n"
          ]
        },
        {
          "output_type": "stream",
          "name": "stderr",
          "text": [
            "100%|██████████| 1848/1848 [01:50<00:00, 16.77it/s]\n"
          ]
        },
        {
          "output_type": "stream",
          "name": "stdout",
          "text": [
            "Average Train Loss: 0.07887339378501494\n",
            "Evaluating on dev set\n"
          ]
        },
        {
          "output_type": "stream",
          "name": "stderr",
          "text": [
            "1445850it [00:00, 68648438.84it/s]      \n"
          ]
        },
        {
          "output_type": "stream",
          "name": "stdout",
          "text": [
            "- dev UAS: 88.35\n",
            "New best dev UAS! Saving model.\n",
            "\n",
            "Epoch 7 out of 10\n"
          ]
        },
        {
          "output_type": "stream",
          "name": "stderr",
          "text": [
            "100%|██████████| 1848/1848 [01:47<00:00, 17.17it/s]\n"
          ]
        },
        {
          "output_type": "stream",
          "name": "stdout",
          "text": [
            "Average Train Loss: 0.07473018674333116\n",
            "Evaluating on dev set\n"
          ]
        },
        {
          "output_type": "stream",
          "name": "stderr",
          "text": [
            "1445850it [00:00, 62805746.23it/s]      \n"
          ]
        },
        {
          "output_type": "stream",
          "name": "stdout",
          "text": [
            "- dev UAS: 88.24\n",
            "\n",
            "Epoch 8 out of 10\n"
          ]
        },
        {
          "output_type": "stream",
          "name": "stderr",
          "text": [
            " 13%|█▎        | 235/1848 [00:18<01:23, 19.31it/s]"
          ]
        }
      ],
      "source": [
        "#!/usr/bin/env python3\n",
        "# -*- coding: utf-8 -*-\n",
        "\n",
        "from datetime import datetime\n",
        "import os\n",
        "import math\n",
        "import time\n",
        "\n",
        "from torch import nn, optim\n",
        "import torch\n",
        "from tqdm import tqdm\n",
        "\n",
        "from utils.parser_utils import minibatches, load_and_preprocess_data, AverageMeter\n",
        "\n",
        "# -----------------\n",
        "# Primary Functions\n",
        "# -----------------\n",
        "def train(parser, train_data, dev_data, output_path, batch_size=1024, n_epochs=10, lr=0.0005):\n",
        "    \"\"\" Train the neural dependency parser.\n",
        "\n",
        "    @param parser (Parser): Neural Dependency Parser\n",
        "    @param train_data ():\n",
        "    @param dev_data ():\n",
        "    @param output_path (str): Path to which model weights and results are written.\n",
        "    @param batch_size (int): Number of examples in a single batch\n",
        "    @param n_epochs (int): Number of training epochs\n",
        "    @param lr (float): Learning rate\n",
        "    \"\"\"\n",
        "    best_dev_UAS = 0\n",
        "\n",
        "\n",
        "    ### YOUR CODE HERE (~2-7 lines)\n",
        "    ### TODO:\n",
        "    ###      1) Construct Adam Optimizer in variable `optimizer`\n",
        "    optimizer = optim.Adam(parser.model.parameters(), lr=lr)\n",
        "\n",
        "    ###      2) Construct the Cross Entropy Loss Function in variable `loss_func`\n",
        "    loss_func = nn.CrossEntropyLoss()\n",
        "\n",
        "    ###\n",
        "    ### Hint: Use `parser.model.parameters()` to pass optimizer\n",
        "    ###       necessary parameters to tune.\n",
        "    ### Please see the following docs for support:\n",
        "    ###     Adam Optimizer: https://pytorch.org/docs/stable/optim.html\n",
        "    ###     Cross Entropy Loss: https://pytorch.org/docs/stable/nn.html#crossentropyloss\n",
        "\n",
        "\n",
        "\n",
        "    ### END YOUR CODE\n",
        "\n",
        "    for epoch in range(n_epochs):\n",
        "        print(\"Epoch {:} out of {:}\".format(epoch + 1, n_epochs))\n",
        "        dev_UAS = train_for_epoch(parser, train_data, dev_data, optimizer, loss_func, batch_size)\n",
        "        if dev_UAS > best_dev_UAS:\n",
        "            best_dev_UAS = dev_UAS\n",
        "            print(\"New best dev UAS! Saving model.\")\n",
        "            torch.save(parser.model.state_dict(), output_path)\n",
        "        print(\"\")\n",
        "\n",
        "\n",
        "def train_for_epoch(parser, train_data, dev_data, optimizer, loss_func, batch_size):\n",
        "    \"\"\" Train the neural dependency parser for single epoch.\n",
        "\n",
        "    Note: In PyTorch we can signify train versus test and automatically have\n",
        "    the Dropout Layer applied and removed, accordingly, by specifying\n",
        "    whether we are training, `model.train()`, or evaluating, `model.eval()`\n",
        "\n",
        "    @param parser (Parser): Neural Dependency Parser\n",
        "    @param train_data ():\n",
        "    @param dev_data ():\n",
        "    @param optimizer (nn.Optimizer): Adam Optimizer\n",
        "    @param loss_func (nn.CrossEntropyLoss): Cross Entropy Loss Function\n",
        "    @param batch_size (int): batch size\n",
        "    @param lr (float): learning rate\n",
        "\n",
        "    @return dev_UAS (float): Unlabeled Attachment Score (UAS) for dev data\n",
        "    \"\"\"\n",
        "    parser.model.train() # Places model in \"train\" mode, i.e. apply dropout layer\n",
        "    n_minibatches = math.ceil(len(train_data) / batch_size)\n",
        "    loss_meter = AverageMeter()\n",
        "\n",
        "    with tqdm(total=(n_minibatches)) as prog:\n",
        "        for i, (train_x, train_y) in enumerate(minibatches(train_data, batch_size)):\n",
        "            optimizer.zero_grad()   # remove any baggage in the optimizer\n",
        "            loss = 0. # store loss for this batch here\n",
        "            train_x = torch.from_numpy(train_x).long()\n",
        "            train_y = torch.from_numpy(train_y.nonzero()[1]).long()\n",
        "\n",
        "            ### YOUR CODE HERE (~5-10 lines)\n",
        "            ### TODO:\n",
        "            ###      1) Run train_x forward through model to produce `logits`\n",
        "            logits = parser.model(train_x)\n",
        "            ###      2) Use the `loss_func` parameter to apply the PyTorch CrossEntropyLoss function.\n",
        "            ###         This will take `logits` and `train_y` as inputs. It will output the CrossEntropyLoss\n",
        "            ###         between softmax(`logits`) and `train_y`. Remember that softmax(`logits`)\n",
        "            ###         are the predictions (y^ from the PDF).\n",
        "            loss = loss_func(logits, train_y)\n",
        "            ###      3) Backprop losses\n",
        "            loss.backward()\n",
        "            ###      4) Take step with the optimizer\n",
        "            optimizer.step()\n",
        "            ### Please see the following docs for support:\n",
        "            ###     Optimizer Step: https://pytorch.org/docs/stable/optim.html#optimizer-step\n",
        "\n",
        "\n",
        "            ### END YOUR CODE\n",
        "            prog.update(1)\n",
        "            loss_meter.update(loss.item())\n",
        "\n",
        "    print (\"Average Train Loss: {}\".format(loss_meter.avg))\n",
        "\n",
        "    print(\"Evaluating on dev set\",)\n",
        "    parser.model.eval() # Places model in \"eval\" mode, i.e. don't apply dropout layer\n",
        "    dev_UAS, _ = parser.parse(dev_data)\n",
        "    print(\"- dev UAS: {:.2f}\".format(dev_UAS * 100.0))\n",
        "    return dev_UAS\n",
        "\n",
        "\n",
        "if __name__ == \"__main__\":\n",
        "    # Note: Set debug to False, when training on entire corpus\n",
        "    # debug = True\n",
        "    debug = False\n",
        "\n",
        "    # assert(torch.__version__ == \"1.0.0\"),  \"Please install torch version 1.0.0\"\n",
        "\n",
        "    print(80 * \"=\")\n",
        "    print(\"INITIALIZING\")\n",
        "    print(80 * \"=\")\n",
        "    parser, embeddings, train_data, dev_data, test_data = load_and_preprocess_data(debug)\n",
        "\n",
        "    start = time.time()\n",
        "    model = ParserModel(embeddings)\n",
        "    parser.model = model\n",
        "    print(\"took {:.2f} seconds\\n\".format(time.time() - start))\n",
        "\n",
        "    print(80 * \"=\")\n",
        "    print(\"TRAINING\")\n",
        "    print(80 * \"=\")\n",
        "    output_dir = \"results/{:%Y%m%d_%H%M%S}/\".format(datetime.now())\n",
        "    output_path = output_dir + \"model.weights\"\n",
        "\n",
        "    if not os.path.exists(output_dir):\n",
        "        os.makedirs(output_dir)\n",
        "\n",
        "    train(parser, train_data, dev_data, output_path, batch_size=1024, n_epochs=10, lr=0.0005)\n",
        "\n",
        "    if not debug:\n",
        "        print(80 * \"=\")\n",
        "        print(\"TESTING\")\n",
        "        print(80 * \"=\")\n",
        "        print(\"Restoring the best model weights found on the dev set\")\n",
        "        parser.model.load_state_dict(torch.load(output_path))\n",
        "        print(\"Final evaluation on test set\",)\n",
        "        parser.model.eval()\n",
        "        UAS, dependencies = parser.parse(test_data)\n",
        "        print(\"- test UAS: {:.2f}\".format(UAS * 100.0))\n",
        "        print(\"Done!\")\n"
      ]
    },
    {
      "cell_type": "code",
      "execution_count": null,
      "metadata": {
        "id": "GWD8vhfU8oOt"
      },
      "outputs": [],
      "source": []
    }
  ],
  "metadata": {
    "accelerator": "GPU",
    "colab": {
      "provenance": []
    },
    "kernelspec": {
      "display_name": "Python 3",
      "name": "python3"
    },
    "language_info": {
      "name": "python"
    },
    "gpuClass": "standard"
  },
  "nbformat": 4,
  "nbformat_minor": 0
}